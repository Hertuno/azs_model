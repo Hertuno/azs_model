{
 "cells": [
  {
   "cell_type": "markdown",
   "id": "4c0a9676",
   "metadata": {},
   "source": [
    "## RandomForest Regressor Pipeline - Data Cleaning, Feature Engineering, Training & Analysis"
   ]
  },
  {
   "cell_type": "code",
   "execution_count": null,
   "id": "c6c7ffe8",
   "metadata": {},
   "outputs": [],
   "source": [
    "# 📦 Импорт библиотек\n",
    "import pandas as pd\n",
    "import numpy as np\n",
    "import matplotlib.pyplot as plt\n",
    "import seaborn as sns\n",
    "from sklearn.ensemble import RandomForestRegressor\n",
    "from sklearn.model_selection import train_test_split, GridSearchCV\n",
    "from sklearn.metrics import mean_absolute_error, mean_squared_error, r2_score"
   ]
  },
  {
   "cell_type": "code",
   "execution_count": null,
   "id": "13da03d5",
   "metadata": {},
   "outputs": [],
   "source": [
    "# 🔹 Настройки отображения\n",
    "sns.set(style=\"whitegrid\")\n",
    "plt.rcParams['figure.figsize'] = (12, 6)"
   ]
  },
  {
   "cell_type": "code",
   "execution_count": null,
   "id": "55fa4510",
   "metadata": {},
   "outputs": [],
   "source": [
    "# 1️⃣ Загрузка и исследование данных\n",
    "df = pd.read_csv('your_dataset.csv')  # замените на путь к вашему датасету\n",
    "display(df.info())\n",
    "display(df.describe())\n",
    "display(df.isna().sum())"
   ]
  },
  {
   "cell_type": "code",
   "execution_count": null,
   "id": "f923ec8c",
   "metadata": {},
   "outputs": [],
   "source": [
    "# 📊 Распределения параметров\n",
    "df.hist(bins=30, figsize=(15, 10))\n",
    "plt.suptitle(\"Distributions of Original Features\")\n",
    "plt.show()"
   ]
  },
  {
   "cell_type": "code",
   "execution_count": null,
   "id": "0a6f1001",
   "metadata": {},
   "outputs": [],
   "source": [
    "# 2️⃣ Расширение классов параметров\n",
    "# Пример: округление числовых параметров\n",
    "df['param_rounded'] = df['your_param'].round(1)\n",
    "# Пример: бининг признаков\n",
    "df['param_binned'] = pd.cut(df['your_param'], bins=10)"
   ]
  },
  {
   "cell_type": "code",
   "execution_count": null,
   "id": "707f6fbe",
   "metadata": {},
   "outputs": [],
   "source": [
    "# 3️⃣ Обработка выбросов\n",
    "Q1 = df['your_param'].quantile(0.25)\n",
    "Q3 = df['your_param'].quantile(0.75)\n",
    "IQR = Q3 - Q1\n",
    "low = Q1 - 1.5 * IQR\n",
    "high = Q3 + 1.5 * IQR\n",
    "df = df[(df['your_param'] >= low) & (df['your_param'] <= high)]"
   ]
  },
  {
   "cell_type": "code",
   "execution_count": null,
   "id": "5079eb8f",
   "metadata": {},
   "outputs": [],
   "source": [
    "# 4️⃣ Статистика до и после обработки\n",
    "display(df['your_param'].describe())\n",
    "sns.histplot(df['your_param'], kde=True)\n",
    "plt.title(\"Cleaned Distribution\")\n",
    "plt.show()"
   ]
  },
  {
   "cell_type": "code",
   "execution_count": null,
   "id": "79c90686",
   "metadata": {},
   "outputs": [],
   "source": [
    "# 5️⃣ Разделение на тренировочные и тестовые данные\n",
    "X = df.drop(columns=['target'])\n",
    "y = df['target']\n",
    "X_train, X_test, y_train, y_test = train_test_split(X, y, test_size=0.2, random_state=42)"
   ]
  },
  {
   "cell_type": "code",
   "execution_count": null,
   "id": "50e2da3e",
   "metadata": {},
   "outputs": [],
   "source": [
    "# 6️⃣ Подбор гиперпараметров\n",
    "params = {\n",
    "    'n_estimators': [100, 200],\n",
    "    'max_depth': [None, 10, 20],\n",
    "    'min_samples_split': [2, 5]\n",
    "}\n",
    "grid = GridSearchCV(RandomForestRegressor(random_state=42), params, cv=3, n_jobs=-1, verbose=1)\n",
    "grid.fit(X_train, y_train)\n",
    "display(\"Best params:\", grid.best_params_)"
   ]
  },
  {
   "cell_type": "code",
   "execution_count": null,
   "id": "bb11d96e",
   "metadata": {},
   "outputs": [],
   "source": [
    "# 7️⃣ Обучение финальной модели\n",
    "model = grid.best_estimator_\n",
    "y_pred = model.predict(X_test)"
   ]
  },
  {
   "cell_type": "code",
   "execution_count": null,
   "id": "a5f2e219",
   "metadata": {},
   "outputs": [],
   "source": [
    "# 8️⃣ Оценка качества\n",
    "mae = mean_absolute_error(y_test, y_pred)\n",
    "mse = mean_squared_error(y_test, y_pred)\n",
    "r2 = r2_score(y_test, y_pred)\n",
    "display(f\"MAE: {mae:.2f}, MSE: {mse:.2f}, R2: {r2:.2f}\")"
   ]
  },
  {
   "cell_type": "code",
   "execution_count": null,
   "id": "b31f520c",
   "metadata": {},
   "outputs": [],
   "source": [
    "# 🔍 Графики ошибок и отклонений\n",
    "sns.scatterplot(x=y_test, y=y_pred)\n",
    "plt.xlabel(\"Actual\")\n",
    "plt.ylabel(\"Predicted\")\n",
    "plt.title(\"Actual vs Predicted\")\n",
    "plt.plot([y_test.min(), y_test.max()], [y_test.min(), y_test.max()], '--r')\n",
    "plt.show()\n",
    "\n",
    "residuals = y_test - y_pred\n",
    "sns.histplot(residuals, kde=True)\n",
    "plt.title(\"Distribution of Residuals\")\n",
    "plt.show()"
   ]
  },
  {
   "cell_type": "code",
   "execution_count": null,
   "id": "3b8e5519",
   "metadata": {},
   "outputs": [],
   "source": [
    "# 🔎 Анализ крайних точек ошибки\n",
    "errors = abs(residuals)\n",
    "worst = errors.sort_values(ascending=False).head(5)\n",
    "display(\"Worst predictions:\")\n",
    "display(df.loc[worst.index])"
   ]
  }
 ],
 "metadata": {
  "kernelspec": {
   "display_name": "Python 3",
   "language": "python",
   "name": "python3"
  },
  "language_info": {
   "name": "python",
   "version": "3.12.9"
  }
 },
 "nbformat": 4,
 "nbformat_minor": 5
}
