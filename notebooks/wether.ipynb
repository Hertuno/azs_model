{
 "cells": [
  {
   "cell_type": "code",
   "execution_count": null,
   "id": "52c66d9b",
   "metadata": {},
   "outputs": [],
   "source": [
    "import pandas as pd\n",
    "import requests\n",
    "from cfg.config import DATA_PATH, API_URL, COORDINATES"
   ]
  },
  {
   "cell_type": "code",
   "execution_count": 2,
   "id": "9c531a15",
   "metadata": {},
   "outputs": [],
   "source": [
    "def weather_request(year: str):\n",
    "    params = {\n",
    "        \"latitude\": COORDINATES[\"latitude\"],\n",
    "        \"longitude\": COORDINATES[\"longitude\"],\n",
    "        \"start_date\": f\"{year}-01-01\",\n",
    "        \"end_date\": f\"{year}-12-31\",\n",
    "        \"hourly\": \"temperature_2m,windspeed_10m,precipitation\",\n",
    "        \"timezone\": \"Europe/Moscow\"\n",
    "    }\n",
    "\n",
    "    return requests.get(API_URL, params).json()\n",
    "    "
   ]
  },
  {
   "cell_type": "code",
   "execution_count": 3,
   "id": "6cf4ae3a",
   "metadata": {},
   "outputs": [],
   "source": [
    "daily_dfs = dict.fromkeys([\"2023\", \"2024\"])\n",
    "for key in daily_dfs:\n",
    "    data = weather_request(key)\n",
    "    df = pd.DataFrame({\n",
    "        \"day_of_year\": pd.to_datetime(data[\"hourly\"][\"time\"]).day_of_year,\n",
    "        \"temperature\": data[\"hourly\"][\"temperature_2m\"],\n",
    "        \"wind_speed\": data[\"hourly\"][\"windspeed_10m\"],\n",
    "        \"precipitation\": data[\"hourly\"][\"precipitation\"]\n",
    "    })\n",
    "\n",
    "    daily_df = df.groupby(by=\"day_of_year\").mean().reset_index()\n",
    "    new_min, new_max = 1, 100\n",
    "    old_min, old_max = daily_df['precipitation'].min(), daily_df['precipitation'].max()\n",
    "    daily_df['precipitation'] = (daily_df['precipitation'] - old_min) / (old_max - old_min) * (new_max - new_min) + new_min\n",
    "    daily_dfs[key] = daily_df.round({'temperature': 1, 'wind_speed': 1, \"precipitation\":1})\n"
   ]
  },
  {
   "cell_type": "code",
   "execution_count": 4,
   "id": "0e2fa46a",
   "metadata": {},
   "outputs": [],
   "source": [
    "for key, val in daily_dfs.items():\n",
    "    val.to_csv(f\"{DATA_PATH['parsed']}weather_{key}.csv\", sep=\";\", index=False)"
   ]
  }
 ],
 "metadata": {
  "kernelspec": {
   "display_name": "Python 3",
   "language": "python",
   "name": "python3"
  },
  "language_info": {
   "codemirror_mode": {
    "name": "ipython",
    "version": 3
   },
   "file_extension": ".py",
   "mimetype": "text/x-python",
   "name": "python",
   "nbconvert_exporter": "python",
   "pygments_lexer": "ipython3",
   "version": "3.12.9"
  }
 },
 "nbformat": 4,
 "nbformat_minor": 5
}
