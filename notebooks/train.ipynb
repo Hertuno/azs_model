{
 "cells": [
  {
   "cell_type": "code",
   "execution_count": null,
   "id": "584741c8",
   "metadata": {},
   "outputs": [],
   "source": [
    "#Импорты\n",
    "import pandas as pd\n",
    "import numpy as np\n",
    "from sklearn.ensemble import RandomForestRegressor, RandomForestClassifier\n",
    "from sklearn.metrics import mean_absolute_error\n",
    "from sklearn.model_selection import train_test_split\n",
    "from sklearn.preprocessing import OneHotEncoder\n",
    "from sklearn.metrics import r2_score\n",
    "import datetime\n",
    "from cfg.config import DATA_PATH"
   ]
  },
  {
   "cell_type": "code",
   "execution_count": null,
   "id": "cc0ecfa4",
   "metadata": {},
   "outputs": [],
   "source": [
    "#Открытие CSV\n",
    "def read_files(file_list, separator):\n",
    "    res = {}\n",
    "    for key, val in file_list.items():\n",
    "        res[key] = pd.read_csv(filepath_or_buffer = val, sep = separator, header=0)\n",
    "\n",
    "    return res"
   ]
  },
  {
   "cell_type": "code",
   "execution_count": null,
   "id": "3d6a9eca",
   "metadata": {},
   "outputs": [],
   "source": [
    "#Загружаем данные\n",
    "import os\n",
    "\n",
    "data = {}\n",
    "parsed_path = DATA_PATH[\"parsed\"]\n",
    "for file_name in os.listdir(parsed_path):\n",
    "    file_path = parsed_path + file_name\n",
    "    data[file_name.split(\".\")[0]] = pd.read_csv(file_path, sep = \";\", header=0)\n",
    "    "
   ]
  },
  {
   "cell_type": "code",
   "execution_count": null,
   "id": "39a4c7f5",
   "metadata": {},
   "outputs": [],
   "source": [
    "#Соединяем фреймы и разделяем на фичи и показатель\n",
    "X = pd.DataFrame()\n",
    "y = []\n",
    "for key, val in data.items():\n",
    "    X = X | val[[\"day_of_year\", \"cash\", \"temperature\", \"wind_speed\", \"precipitation\"]]\n",
    "    data[\"res_2023\"] = data[\"ofd_2023\"].merge(data[\"weather_2023\"], on=\"day_of_year\", how='left')\n",
    "    display(data[\"res_2023\"])\n"
   ]
  },
  {
   "cell_type": "code",
   "execution_count": null,
   "id": "5b27fe6e",
   "metadata": {},
   "outputs": [],
   "source": [
    "#Подготовка к тренировке только 2023 год\n",
    "X = data['res_2023'][[\"day_of_year\", \"cash\", \"temperature\", \"wind_speed\", \"precipitation\"]]\n",
    "y = data['res_2023']['income'].values\n",
    "train_X, val_X, train_y, val_y = train_test_split(X, y, random_state=1)"
   ]
  },
  {
   "cell_type": "code",
   "execution_count": null,
   "id": "5fb0606f",
   "metadata": {},
   "outputs": [],
   "source": [
    "display(data['res_2023'].head(5))\n",
    "display(data['res_2023'].tail(5))"
   ]
  },
  {
   "cell_type": "code",
   "execution_count": null,
   "id": "4a1f8e0f",
   "metadata": {},
   "outputs": [],
   "source": [
    "display(train_X)\n",
    "display(train_y)"
   ]
  },
  {
   "cell_type": "code",
   "execution_count": null,
   "id": "f2adb174",
   "metadata": {},
   "outputs": [],
   "source": [
    "#Тренировка модели\n",
    "model = RandomForestRegressor(random_state=1, n_estimators=200)\n",
    "model.fit(train_X, train_y)"
   ]
  },
  {
   "cell_type": "code",
   "execution_count": null,
   "id": "00b7af7a",
   "metadata": {},
   "outputs": [],
   "source": [
    "pd.Series(train_y).value_counts()"
   ]
  },
  {
   "cell_type": "code",
   "execution_count": null,
   "id": "08cba9d4",
   "metadata": {},
   "outputs": [],
   "source": [
    "#Поиск гиперпараметров\n",
    "from sklearn.model_selection import GridSearchCV\n",
    "from sklearn.ensemble import RandomForestRegressor\n",
    "\n",
    "param_grid = {\n",
    "    'n_estimators': [100, 200],\n",
    "    'max_depth': [None, 10, 20],\n",
    "    'min_samples_split': [2, 5],\n",
    "    'min_samples_leaf': [1, 2],\n",
    "    'bootstrap': [True, False]\n",
    "}\n",
    "\n",
    "grid_search = GridSearchCV(RandomForestRegressor(), param_grid=param_grid, cv=2)\n",
    "grid_search.fit(train_X, train_y)\n",
    "\n",
    "print(\"Best Parameters:\", grid_search.best_params_)\n",
    "print(\"Best Estimator:\", grid_search.best_estimator_)"
   ]
  },
  {
   "cell_type": "code",
   "execution_count": null,
   "id": "c3b7a875",
   "metadata": {},
   "outputs": [],
   "source": [
    "#Проверка модели\n",
    "predictions = model.predict(val_X)\n",
    "print(\"MAE: \", mean_absolute_error(val_y, predictions))\n",
    "print(\"R2: \", r2_score(val_y, predictions))"
   ]
  },
  {
   "cell_type": "code",
   "execution_count": null,
   "id": "438ad462",
   "metadata": {},
   "outputs": [],
   "source": [
    "#Худнее предсказание\n",
    "errors = np.abs(val_y - predictions)\n",
    "worst_index = np.argmax(errors)\n",
    "print(f\"Наихудшее предсказание на индексе {worst_index}\")\n",
    "print(val_X.iloc[worst_index-1])\n",
    "print(val_X.iloc[worst_index])\n",
    "print(val_X.iloc[worst_index+1])\n",
    "print(val_y[worst_index])\n",
    "print(predictions[worst_index])"
   ]
  },
  {
   "cell_type": "code",
   "execution_count": null,
   "id": "526a5bda",
   "metadata": {},
   "outputs": [],
   "source": [
    "#Графики\n",
    "# visualization\n",
    "import matplotlib.pyplot as plt\n",
    "%matplotlib inline\n",
    "from scipy.interpolate import make_interp_spline\n",
    "\n",
    "weather = pd.DataFrame({'Date': val_X[\"day_of_year\"], 'temperature': val_X[\"temperature\"]}).sort_values(by='Date')\n",
    "input = pd.DataFrame({'Date': val_X[\"day_of_year\"], 'Income': val_y}).sort_values(by='Date')\n",
    "output = pd.DataFrame({'Date': val_X[\"day_of_year\"], 'Income': predictions}).sort_values(by='Date')\n",
    "\n",
    "fig, ax = plt.subplots(figsize=(100,5))\n",
    "\n",
    "plt.axis([0,91,0,260000])\n",
    "plt.bar(np.arange(91), input[\"Income\"], 0.5, color='b')\n",
    "plt.bar(np.arange(91)+0.5, output[\"Income\"], 0.2, color='r')\n",
    "plt.xticks(np.arange(91)+1.5*0.5, input[\"Date\"])\n",
    "\n",
    "plt.show()"
   ]
  }
 ],
 "metadata": {
  "kernelspec": {
   "display_name": "Python 3",
   "language": "python",
   "name": "python3"
  },
  "language_info": {
   "codemirror_mode": {
    "name": "ipython",
    "version": 3
   },
   "file_extension": ".py",
   "mimetype": "text/x-python",
   "name": "python",
   "nbconvert_exporter": "python",
   "pygments_lexer": "ipython3",
   "version": "3.12.9"
  }
 },
 "nbformat": 4,
 "nbformat_minor": 5
}
