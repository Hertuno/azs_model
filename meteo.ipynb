{
 "cells": [
  {
   "cell_type": "code",
   "execution_count": null,
   "id": "fcf5c742",
   "metadata": {},
   "outputs": [],
   "source": [
    "import pandas as pd\n",
    "import requests\n",
    "\n",
    "from config import *"
   ]
  },
  {
   "cell_type": "code",
   "execution_count": null,
   "id": "7d95c528",
   "metadata": {},
   "outputs": [],
   "source": [
    "years = ['2023', '2024', '2025']\n",
    "params = {\n",
    "    \"latitude\": COORDINATES[\"latitude\"],\n",
    "    \"longitude\": COORDINATES[\"longitude\"],\n",
    "    \"hourly\": \"apparent_temperature\",\n",
    "    \"timezone\": \"Europe/Moscow\"\n",
    "}\n",
    "weather_dfs = {}"
   ]
  },
  {
   "cell_type": "code",
   "execution_count": null,
   "id": "846af293",
   "metadata": {},
   "outputs": [],
   "source": [
    "for year in years:\n",
    "    params['start_date'] = f'{year}-01-01'\n",
    "    params['end_date'] = f'{year}-12-31'\n",
    "    responses = requests.get(WEATHER_URL, params).json()\n",
    "\n",
    "    time = responses['hourly']['time']\n",
    "    date_list = pd.to_datetime(time)\n",
    "\n",
    "    apparent_temperature = responses['hourly']['apparent_temperature']\n",
    "    temp_list = pd.to_numeric(apparent_temperature)\n",
    "\n",
    "    weather_df = pd.DataFrame.from_dict({\n",
    "        'year': date_list.year, \n",
    "        'month': date_list.month, \n",
    "        'day': date_list.day, \n",
    "        'temp': temp_list})\n",
    "\n",
    "    weather_df = weather_df.groupby(by=['year', 'month', 'day']).mean()\n",
    "    weather_df = weather_df.mean()\n",
    "    weather_dfs[year] = weather_df.reset_index()"
   ]
  },
  {
   "cell_type": "code",
   "execution_count": null,
   "id": "a97b4408",
   "metadata": {},
   "outputs": [],
   "source": [
    "for key, val in weather_dfs:\n",
    "    val.to_csv(f\"{DATA_PATH['parsed']}weather_{key}.csv\", sep=\",\", index=False)"
   ]
  }
 ],
 "metadata": {
  "language_info": {
   "name": "python"
  }
 },
 "nbformat": 4,
 "nbformat_minor": 5
}
