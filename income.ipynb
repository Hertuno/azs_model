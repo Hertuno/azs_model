{
 "cells": [
  {
   "cell_type": "code",
   "execution_count": 1,
   "id": "be7d036f",
   "metadata": {},
   "outputs": [],
   "source": [
    "#Импорты\n",
    "import pandas as pd\n",
    "from datetime import datetime as dt\n",
    "from config import *"
   ]
  },
  {
   "cell_type": "code",
   "execution_count": 2,
   "id": "7014e52e",
   "metadata": {},
   "outputs": [],
   "source": [
    "#Открытие CSV\n",
    "def read_files(file_list, separator):\n",
    "    res = {}\n",
    "    for key, val in file_list.items():\n",
    "        res[key] = pd.read_csv(filepath_or_buffer = val, sep = separator, header=0)\n",
    "\n",
    "    return res"
   ]
  },
  {
   "cell_type": "code",
   "execution_count": 6,
   "id": "12584acd",
   "metadata": {},
   "outputs": [],
   "source": [
    "#Строку с датой в timestamp\n",
    "def day(str_date: str) -> int:\n",
    "    template = \"%d.%m.%Y %H:%M:%S\" if len(str_date) == 19 else \"%Y-%m-%d %H:%M\"\n",
    "    return dt.strptime(str_date, template).timetuple().tm_yday\n",
    "\n",
    "def income(str_income: str) -> int:\n",
    "    res = str_income.split(\",\")[0]\n",
    "    res = \"\".join(res.split())\n",
    "    return res\n",
    "\n",
    "def cash(str_cash: str) -> int:\n",
    "    return 0 if str_cash == \"0\" else 1\n",
    "\n",
    "# Функция очистки данных\n",
    "def clean_pd(data: pd.DataFrame) -> pd.DataFrame:\n",
    "\n",
    "    res = data[data[\"Тип документа\"] == \"Кассовый чек\"].copy()\n",
    "    f_columns = [\"Сумма наличными, руб.\", \"Дата и время приема чека ОФД (UTC)\", \"Сумма документа, руб.\"]\n",
    "    res = res[f_columns].copy()\n",
    "    \n",
    "    res.insert(0, column=\"cash\", value=res.apply(lambda row: cash(row[\"Сумма наличными, руб.\"]), axis=1).astype(\"int64\"))\n",
    "    res.insert(0, column=\"day\", value=res.apply(lambda row: day(row[\"Дата и время приема чека ОФД (UTC)\"]), axis=1).astype(\"int64\"))\n",
    "    res.insert(0, column=\"income\", value=res.apply(lambda row: income(row[\"Сумма документа, руб.\"]), axis=1).astype(\"int64\"))\n",
    "\n",
    "    res.drop(columns=f_columns, inplace=True)\n",
    "    res.sort_values('day', ignore_index=True, inplace=True)\n",
    "    \n",
    "    return res\n",
    "\n",
    "def group_pd(data: pd.DataFrame) -> pd.DataFrame:\n",
    "    return data.groupby('day').sum().reset_index()\n",
    "\n",
    "#Очистка данных\n",
    "def prepair_data(data: dict[str: pd.DataFrame]) -> dict[str: pd.DataFrame]:\n",
    "    res = {}\n",
    "    for key, val in data.items():\n",
    "        res[key] = clean_pd(val.copy())\n",
    "        res[key] = group_pd(res[key])\n",
    "        \n",
    "    return res"
   ]
  },
  {
   "cell_type": "code",
   "execution_count": 8,
   "id": "8fde4a41",
   "metadata": {},
   "outputs": [],
   "source": [
    "file_list = {'2023': f'{DATA_PATH['raw']}ofd_2023.csv', '2024': f'{DATA_PATH['raw']}ofd_2024.csv'}\n",
    "data = read_files(file_list, \";\")\n",
    "prepair_data = prepair_data(data)"
   ]
  },
  {
   "cell_type": "code",
   "execution_count": 9,
   "id": "493bb507",
   "metadata": {},
   "outputs": [],
   "source": [
    "for key, val in prepair_data.items():\n",
    "    val.to_csv(f'{DATA_PATH['parsed']}income_{key}.csv', index=False)"
   ]
  }
 ],
 "metadata": {
  "kernelspec": {
   "display_name": "Python 3",
   "language": "python",
   "name": "python3"
  },
  "language_info": {
   "codemirror_mode": {
    "name": "ipython",
    "version": 3
   },
   "file_extension": ".py",
   "mimetype": "text/x-python",
   "name": "python",
   "nbconvert_exporter": "python",
   "pygments_lexer": "ipython3",
   "version": "3.12.9"
  }
 },
 "nbformat": 4,
 "nbformat_minor": 5
}
