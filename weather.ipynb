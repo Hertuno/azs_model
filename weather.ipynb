{
 "cells": [
  {
   "cell_type": "code",
   "execution_count": 1,
   "id": "52c66d9b",
   "metadata": {},
   "outputs": [],
   "source": [
    "import pandas as pd\n",
    "import requests\n",
    "from config import DATA_PATH, API_URL, COORDINATES"
   ]
  },
  {
   "cell_type": "code",
   "execution_count": 2,
   "id": "9c531a15",
   "metadata": {},
   "outputs": [],
   "source": [
    "def weather_request(year: str):\n",
    "    params = {\n",
    "        \"latitude\": COORDINATES[\"latitude\"],\n",
    "        \"longitude\": COORDINATES[\"longitude\"],\n",
    "        \"start_date\": f\"{year}-01-01\",\n",
    "        \"end_date\": f\"{year}-12-31\",\n",
    "        \"hourly\": \"temperature_2m,windspeed_10m,precipitation\",\n",
    "        \"timezone\": \"Europe/Moscow\"\n",
    "    }\n",
    "\n",
    "    return requests.get(API_URL, params).json()\n",
    "    "
   ]
  },
  {
   "cell_type": "code",
   "execution_count": 5,
   "id": "6cf4ae3a",
   "metadata": {},
   "outputs": [],
   "source": [
    "daily_dfs = dict.fromkeys([\"2023\", \"2024\"])\n",
    "for key in daily_dfs:\n",
    "    data = weather_request(key)\n",
    "    df = pd.DataFrame({\n",
    "        \"day\": pd.to_datetime(data[\"hourly\"][\"time\"]).day_of_year,\n",
    "        \"temperature\": data[\"hourly\"][\"temperature_2m\"],\n",
    "        \"wind_speed\": data[\"hourly\"][\"windspeed_10m\"],\n",
    "        \"precipitation\": data[\"hourly\"][\"precipitation\"]\n",
    "    })\n",
    "\n",
    "    daily_df = df.groupby(by=\"day\").mean().reset_index()\n",
    "    new_min, new_max = 1, 100\n",
    "    old_min, old_max = daily_df['precipitation'].min(), daily_df['precipitation'].max()\n",
    "    daily_df['precipitation'] = (daily_df['precipitation'] - old_min) / (old_max - old_min) * (new_max - new_min) + new_min\n"
   ]
  },
  {
   "cell_type": "code",
   "execution_count": 6,
   "id": "0e2fa46a",
   "metadata": {},
   "outputs": [
    {
     "ename": "AttributeError",
     "evalue": "'NoneType' object has no attribute 'to_csv'",
     "output_type": "error",
     "traceback": [
      "\u001b[31m---------------------------------------------------------------------------\u001b[39m",
      "\u001b[31mAttributeError\u001b[39m                            Traceback (most recent call last)",
      "\u001b[36mCell\u001b[39m\u001b[36m \u001b[39m\u001b[32mIn[6]\u001b[39m\u001b[32m, line 2\u001b[39m\n\u001b[32m      1\u001b[39m \u001b[38;5;28;01mfor\u001b[39;00m key, val \u001b[38;5;129;01min\u001b[39;00m daily_dfs.items():\n\u001b[32m----> \u001b[39m\u001b[32m2\u001b[39m     \u001b[43mval\u001b[49m\u001b[43m.\u001b[49m\u001b[43mto_csv\u001b[49m(\u001b[33mf\u001b[39m\u001b[33m\"\u001b[39m\u001b[38;5;132;01m{\u001b[39;00mDATA_PATH[\u001b[33m'\u001b[39m\u001b[33mparsed\u001b[39m\u001b[33m'\u001b[39m]\u001b[38;5;132;01m}\u001b[39;00m\u001b[33mweather_\u001b[39m\u001b[38;5;132;01m{\u001b[39;00mkey\u001b[38;5;132;01m}\u001b[39;00m\u001b[33m.csv\u001b[39m\u001b[33m\"\u001b[39m, sep=\u001b[33m\"\u001b[39m\u001b[33m,\u001b[39m\u001b[33m\"\u001b[39m, index=\u001b[38;5;28;01mFalse\u001b[39;00m)\n",
      "\u001b[31mAttributeError\u001b[39m: 'NoneType' object has no attribute 'to_csv'"
     ]
    }
   ],
   "source": [
    "for key, val in daily_dfs.items():\n",
    "    val.to_csv(f\"{DATA_PATH['parsed']}weather_{key}.csv\", sep=\",\", index=False)"
   ]
  }
 ],
 "metadata": {
  "kernelspec": {
   "display_name": "Python 3",
   "language": "python",
   "name": "python3"
  },
  "language_info": {
   "codemirror_mode": {
    "name": "ipython",
    "version": 3
   },
   "file_extension": ".py",
   "mimetype": "text/x-python",
   "name": "python",
   "nbconvert_exporter": "python",
   "pygments_lexer": "ipython3",
   "version": "3.12.9"
  }
 },
 "nbformat": 4,
 "nbformat_minor": 5
}
